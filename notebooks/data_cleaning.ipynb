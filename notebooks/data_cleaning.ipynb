{
 "cells": [
  {
   "cell_type": "markdown",
   "id": "4cd907db-9565-439c-afdc-f317fae76dc1",
   "metadata": {},
   "source": [
    "# Limpieza de datos\n",
    "## Proyecto Académico Etapa I\n",
    "## Retail Insights: A Comprehensive Sales Dataset\n",
    "---\n",
    "Este notebook forma parte de la Etapa I del Proyecto Integrador del curso \"Taller de Fortalecimiento al Egreso II\". Su propósito es documentar de forma clara y justificada el proceso de higienización de un conjunto de datos relacionados con ventas minoristas, con base en los principios de la minería de datos y el descubrimiento de conocimiento en bases de datos (KDD).\n",
    "\n",
    "Siguiendo la sugerencia establecida en las indicaciones del proyecto, se optó por utilizar un conjunto de datos público proveniente de la plataforma [Kaggle](https://www.kaggle.com/datasets), específicamente el dataset titulado **\"Retail Insights: A Comprehensive Sales Dataset\"**. Esta decisión responde a dos razones fundamentales: por un lado, el archivo contiene una estructura completa y realista del proceso de ventas en un entorno comercial minorista; y por otro, garantiza la disponibilidad y transparencia necesarias para fines educativos.\n",
    "\n",
    "A través de la revisión del dataset se identificaron valores nulos, formatos incorrectos, y estructuras textuales que impiden el análisis cuantitativo. En este notebook se registran paso a paso las transformaciones aplicadas para dejar el dataset listo para su análisis posterior, asegurando consistencia y calidad en los datos.\n",
    "\n",
    "Se conserva la versión original del archivo en la ruta `data/raw/` y se genera una versión procesada y limpia en `data/cleaned/`, respetando buenas prácticas de trazabilidad y reproducibilidad en proyectos de análisis de datos."
   ]
  },
  {
   "cell_type": "markdown",
   "id": "c2969df3-150d-4519-b65f-102feac04a37",
   "metadata": {},
   "source": [
    "---\n",
    "### Importación de librerías y carga del dataset:"
   ]
  },
  {
   "cell_type": "code",
   "execution_count": 42,
   "id": "d56e6083-d217-4a46-931b-7a6d5d1d9b43",
   "metadata": {},
   "outputs": [],
   "source": [
    "import pandas as pd"
   ]
  },
  {
   "cell_type": "code",
   "execution_count": 43,
   "id": "24deeba8-1d34-4c27-b898-4e2233d05b5f",
   "metadata": {},
   "outputs": [],
   "source": [
    "df = pd.read_csv(\"../data/raw/data.csv\")"
   ]
  },
  {
   "cell_type": "markdown",
   "id": "50ada78f-5871-4b2d-8991-b78597322705",
   "metadata": {},
   "source": [
    "---\n",
    "### Exploración inicial de formatos\n",
    "\n",
    "Antes de aplicar transformaciones, es necesario visualizar cómo se encuentran representados los valores monetarios y porcentuales en el dataset original. A continuación, se muestran ejemplos concretos de columnas con símbolos como `$`, `,` y `%`, que impiden su tratamiento como datos numéricos."
   ]
  },
  {
   "cell_type": "code",
   "execution_count": 46,
   "id": "1aed4fdb-4053-45d0-ac84-afe2b0339c44",
   "metadata": {},
   "outputs": [
    {
     "data": {
      "text/html": [
       "<div>\n",
       "<style scoped>\n",
       "    .dataframe tbody tr th:only-of-type {\n",
       "        vertical-align: middle;\n",
       "    }\n",
       "\n",
       "    .dataframe tbody tr th {\n",
       "        vertical-align: top;\n",
       "    }\n",
       "\n",
       "    .dataframe thead th {\n",
       "        text-align: right;\n",
       "    }\n",
       "</style>\n",
       "<table border=\"1\" class=\"dataframe\">\n",
       "  <thead>\n",
       "    <tr style=\"text-align: right;\">\n",
       "      <th></th>\n",
       "      <th>Cost Price</th>\n",
       "      <th>Retail Price</th>\n",
       "      <th>Profit Margin</th>\n",
       "    </tr>\n",
       "  </thead>\n",
       "  <tbody>\n",
       "    <tr>\n",
       "      <th>0</th>\n",
       "      <td>$156.50</td>\n",
       "      <td>$300.97</td>\n",
       "      <td>$144.47</td>\n",
       "    </tr>\n",
       "    <tr>\n",
       "      <th>1</th>\n",
       "      <td>$0.24</td>\n",
       "      <td>$1.26</td>\n",
       "      <td>$1.02</td>\n",
       "    </tr>\n",
       "    <tr>\n",
       "      <th>2</th>\n",
       "      <td>$42.11</td>\n",
       "      <td>$80.98</td>\n",
       "      <td>$38.87</td>\n",
       "    </tr>\n",
       "    <tr>\n",
       "      <th>3</th>\n",
       "      <td>$5.33</td>\n",
       "      <td>$8.60</td>\n",
       "      <td>$3.27</td>\n",
       "    </tr>\n",
       "    <tr>\n",
       "      <th>4</th>\n",
       "      <td>$1.53</td>\n",
       "      <td>$2.78</td>\n",
       "      <td>$1.25</td>\n",
       "    </tr>\n",
       "  </tbody>\n",
       "</table>\n",
       "</div>"
      ],
      "text/plain": [
       "  Cost Price Retail Price Profit Margin\n",
       "0    $156.50      $300.97       $144.47\n",
       "1      $0.24        $1.26         $1.02\n",
       "2     $42.11       $80.98        $38.87\n",
       "3      $5.33        $8.60         $3.27\n",
       "4      $1.53        $2.78         $1.25"
      ]
     },
     "execution_count": 46,
     "metadata": {},
     "output_type": "execute_result"
    }
   ],
   "source": [
    "# Visualización de ejemplos de columnas con precios\n",
    "df[['Cost Price', 'Retail Price', 'Profit Margin']].head()"
   ]
  },
  {
   "cell_type": "code",
   "execution_count": 45,
   "id": "79c53f6d-f3eb-47d0-b0da-046687556a45",
   "metadata": {},
   "outputs": [
    {
     "data": {
      "text/plain": [
       "0    2%\n",
       "1    3%\n",
       "2    4%\n",
       "3    1%\n",
       "4    7%\n",
       "Name: Discount %, dtype: object"
      ]
     },
     "execution_count": 45,
     "metadata": {},
     "output_type": "execute_result"
    }
   ],
   "source": [
    "# Visualización de columna con porcentajes\n",
    "df['Discount %'].head()"
   ]
  },
  {
   "cell_type": "markdown",
   "id": "c6d41b52-c8b1-4eb2-9096-faeeac99b11b",
   "metadata": {},
   "source": [
    "---\n",
    "### Revisión de valores nulos:"
   ]
  },
  {
   "cell_type": "code",
   "execution_count": 27,
   "id": "2abb85b0-ec71-408f-98cf-ced1fe88a480",
   "metadata": {},
   "outputs": [
    {
     "data": {
      "text/plain": [
       "Order No             0\n",
       "Order Date           0\n",
       "Customer Name        0\n",
       "Address              1\n",
       "City                 0\n",
       "State                0\n",
       "Customer Type        0\n",
       "Account Manager      0\n",
       "Order Priority       0\n",
       "Product Name         0\n",
       "Product Category     0\n",
       "Product Container    0\n",
       "Ship Mode            0\n",
       "Ship Date            0\n",
       "Cost Price           0\n",
       "Retail Price         0\n",
       "Profit Margin        0\n",
       "Order Quantity       1\n",
       "Sub Total            0\n",
       "Discount %           0\n",
       "Discount $           0\n",
       "Order Total          0\n",
       "Shipping Cost        0\n",
       "Total                0\n",
       "dtype: int64"
      ]
     },
     "execution_count": 27,
     "metadata": {},
     "output_type": "execute_result"
    }
   ],
   "source": [
    "df.isnull().sum()"
   ]
  },
  {
   "cell_type": "markdown",
   "id": "db674dba-e284-4e9c-8cb7-ed32a4988380",
   "metadata": {},
   "source": [
    "### Revisión de registros duplicados"
   ]
  },
  {
   "cell_type": "code",
   "execution_count": 28,
   "id": "c559f8c4-d02b-4e2d-946e-ab9e9a2f61ac",
   "metadata": {},
   "outputs": [
    {
     "data": {
      "text/plain": [
       "0"
      ]
     },
     "execution_count": 28,
     "metadata": {},
     "output_type": "execute_result"
    }
   ],
   "source": [
    "df.duplicated().sum()"
   ]
  },
  {
   "cell_type": "markdown",
   "id": "d9eed9e2-2e7a-44fe-9964-ce0e49debe32",
   "metadata": {},
   "source": [
    "### Revisión del tipo de datos de cada columna"
   ]
  },
  {
   "cell_type": "code",
   "execution_count": 47,
   "id": "52eb8b69-cc26-49ef-a035-cc116c8430b1",
   "metadata": {},
   "outputs": [
    {
     "name": "stdout",
     "output_type": "stream",
     "text": [
      "<class 'pandas.core.frame.DataFrame'>\n",
      "RangeIndex: 5000 entries, 0 to 4999\n",
      "Data columns (total 24 columns):\n",
      " #   Column             Non-Null Count  Dtype  \n",
      "---  ------             --------------  -----  \n",
      " 0   Order No           5000 non-null   object \n",
      " 1   Order Date         5000 non-null   object \n",
      " 2   Customer Name      5000 non-null   object \n",
      " 3   Address            4999 non-null   object \n",
      " 4   City               5000 non-null   object \n",
      " 5   State              5000 non-null   object \n",
      " 6   Customer Type      5000 non-null   object \n",
      " 7   Account Manager    5000 non-null   object \n",
      " 8   Order Priority     5000 non-null   object \n",
      " 9   Product Name       5000 non-null   object \n",
      " 10  Product Category   5000 non-null   object \n",
      " 11  Product Container  5000 non-null   object \n",
      " 12  Ship Mode          5000 non-null   object \n",
      " 13  Ship Date          5000 non-null   object \n",
      " 14  Cost Price         5000 non-null   object \n",
      " 15  Retail Price       5000 non-null   object \n",
      " 16  Profit Margin      5000 non-null   object \n",
      " 17  Order Quantity     4999 non-null   float64\n",
      " 18  Sub Total          5000 non-null   object \n",
      " 19  Discount %         5000 non-null   object \n",
      " 20  Discount $         5000 non-null   object \n",
      " 21  Order Total        5000 non-null   object \n",
      " 22  Shipping Cost      5000 non-null   object \n",
      " 23  Total              5000 non-null   object \n",
      "dtypes: float64(1), object(23)\n",
      "memory usage: 937.6+ KB\n"
     ]
    }
   ],
   "source": [
    "df.info()"
   ]
  },
  {
   "cell_type": "markdown",
   "id": "8cea8606-9e67-4226-9547-428dc9c29e6b",
   "metadata": {},
   "source": [
    "---\n",
    "## Limpieza y transformación.\n",
    "### Conversión de columnas monetarias a tipo numérico:\n",
    "Se eliminan los símbolos `$` y separadores de miles para poder analizar los valores numéricos como `float`."
   ]
  },
  {
   "cell_type": "code",
   "execution_count": 30,
   "id": "8bd44bdf-414f-44b7-9552-07b692c4f1c8",
   "metadata": {},
   "outputs": [],
   "source": [
    "# Se crea una lista de columnas monetarias a convertir\n",
    "cols_monetarias = ['Cost Price', 'Retail Price', 'Profit Margin', 'Sub Total',\n",
    "                  'Discount $', 'Order Total', 'Shipping Cost', 'Total']\n",
    "\n",
    "# Se itera sobre la lista: eliminar caracteres ($ y ,) y converitr a float.\n",
    "for col in cols_monetarias:\n",
    "    df[col] = df[col].replace(r'[\\$,]', '', regex=True).replace(',', '', regex=True).astype(float)"
   ]
  },
  {
   "cell_type": "markdown",
   "id": "4a24f9ae-1149-47df-bff8-fe4cca44bb7f",
   "metadata": {},
   "source": [
    "### Conversión de porcentaje de descuento a valores decimales:"
   ]
  },
  {
   "cell_type": "code",
   "execution_count": 31,
   "id": "5b99c3ff-61b0-4bf2-8330-665052379b6a",
   "metadata": {},
   "outputs": [],
   "source": [
    "# Remplazo de caracter (%) y conversión a float.\n",
    "df['Discount %'] = df['Discount %'].str.replace('%', '').astype(float) / 100"
   ]
  },
  {
   "cell_type": "markdown",
   "id": "49915e5a-e250-4cee-94c5-2ad2b174126f",
   "metadata": {},
   "source": [
    "### Conversión de columnas de fecha al tipo datetime:"
   ]
  },
  {
   "cell_type": "code",
   "execution_count": 32,
   "id": "3bfcb3be-0b6d-4921-8f47-4742898edcad",
   "metadata": {},
   "outputs": [],
   "source": [
    "df['Order Date'] = pd.to_datetime(df['Order Date'], dayfirst=True)\n",
    "df['Ship Date'] = pd.to_datetime(df['Ship Date'], dayfirst=True)"
   ]
  },
  {
   "cell_type": "markdown",
   "id": "123fcf34-b150-42e3-8dbc-65314b003998",
   "metadata": {},
   "source": [
    "### Conversión de Order Quantity a entero (previa imputación de nulo):"
   ]
  },
  {
   "cell_type": "code",
   "execution_count": 37,
   "id": "5e99cda4-e176-4add-ada0-698d9c40c677",
   "metadata": {},
   "outputs": [],
   "source": [
    "# Imputación de valor faltante con la mediana de los demás valores\n",
    "median_oq = df['Order Quantity'].median()\n",
    "df['Order Quantity'] = df['Order Quantity'].fillna(median_oq)\n",
    "\n",
    "# Conversión columna Order Quantity a tipo entero\n",
    "df['Order Quantity'] = df['Order Quantity'].astype(int)"
   ]
  },
  {
   "cell_type": "markdown",
   "id": "9c2e2187-46d2-454a-854e-01d13869a79f",
   "metadata": {},
   "source": [
    "### Eliminación del único registro con dirección faltante:"
   ]
  },
  {
   "cell_type": "code",
   "execution_count": 38,
   "id": "8c71ff06-480f-4470-b886-5bd903c35b1f",
   "metadata": {},
   "outputs": [],
   "source": [
    "df = df[df['Address'].notna()]"
   ]
  },
  {
   "cell_type": "markdown",
   "id": "60700e80-186f-4b65-96bc-1894a954888b",
   "metadata": {},
   "source": [
    "### Verificación final del dataset limpio"
   ]
  },
  {
   "cell_type": "code",
   "execution_count": 48,
   "id": "3f61dae8-7a4b-42d2-92b5-6fc6ef531f7e",
   "metadata": {},
   "outputs": [
    {
     "name": "stdout",
     "output_type": "stream",
     "text": [
      "<class 'pandas.core.frame.DataFrame'>\n",
      "RangeIndex: 5000 entries, 0 to 4999\n",
      "Data columns (total 24 columns):\n",
      " #   Column             Non-Null Count  Dtype  \n",
      "---  ------             --------------  -----  \n",
      " 0   Order No           5000 non-null   object \n",
      " 1   Order Date         5000 non-null   object \n",
      " 2   Customer Name      5000 non-null   object \n",
      " 3   Address            4999 non-null   object \n",
      " 4   City               5000 non-null   object \n",
      " 5   State              5000 non-null   object \n",
      " 6   Customer Type      5000 non-null   object \n",
      " 7   Account Manager    5000 non-null   object \n",
      " 8   Order Priority     5000 non-null   object \n",
      " 9   Product Name       5000 non-null   object \n",
      " 10  Product Category   5000 non-null   object \n",
      " 11  Product Container  5000 non-null   object \n",
      " 12  Ship Mode          5000 non-null   object \n",
      " 13  Ship Date          5000 non-null   object \n",
      " 14  Cost Price         5000 non-null   object \n",
      " 15  Retail Price       5000 non-null   object \n",
      " 16  Profit Margin      5000 non-null   object \n",
      " 17  Order Quantity     4999 non-null   float64\n",
      " 18  Sub Total          5000 non-null   object \n",
      " 19  Discount %         5000 non-null   object \n",
      " 20  Discount $         5000 non-null   object \n",
      " 21  Order Total        5000 non-null   object \n",
      " 22  Shipping Cost      5000 non-null   object \n",
      " 23  Total              5000 non-null   object \n",
      "dtypes: float64(1), object(23)\n",
      "memory usage: 937.6+ KB\n"
     ]
    }
   ],
   "source": [
    "df.info()"
   ]
  },
  {
   "cell_type": "markdown",
   "id": "e7278053-bd7b-40ad-8edb-ef89a0200f2f",
   "metadata": {},
   "source": [
    "---\n",
    "### Guardado del dataset limpio en carpeta `data/cleaned/`\n"
   ]
  },
  {
   "cell_type": "code",
   "execution_count": 40,
   "id": "52e3da48-3b12-44cd-9f20-7b521d66d7c7",
   "metadata": {},
   "outputs": [],
   "source": [
    "df.to_csv(\"../data/cleaned/data_cleaned.csv\")"
   ]
  }
 ],
 "metadata": {
  "kernelspec": {
   "display_name": "Python 3 (ipykernel)",
   "language": "python",
   "name": "python3"
  },
  "language_info": {
   "codemirror_mode": {
    "name": "ipython",
    "version": 3
   },
   "file_extension": ".py",
   "mimetype": "text/x-python",
   "name": "python",
   "nbconvert_exporter": "python",
   "pygments_lexer": "ipython3",
   "version": "3.12.2"
  }
 },
 "nbformat": 4,
 "nbformat_minor": 5
}
